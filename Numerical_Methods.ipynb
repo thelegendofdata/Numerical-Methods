{
 "cells": [
  {
   "cell_type": "markdown",
   "metadata": {},
   "source": [
    "Rusty Bargain used car sales service is developing an app to attract new customers. In that app, you can quickly find out the market value of your car. You have access to historical data: technical specifications, trim versions, and prices. You need to build the model to determine the value. \n",
    "\n",
    "Rusty Bargain is interested in:\n",
    "\n",
    "- the quality of the prediction;\n",
    "- the speed of the prediction;\n",
    "- the time required for training"
   ]
  },
  {
   "cell_type": "markdown",
   "metadata": {},
   "source": [
    "## Data preparation"
   ]
  },
  {
   "cell_type": "code",
   "execution_count": 1,
   "metadata": {},
   "outputs": [],
   "source": [
    "import pandas as pd\n",
    "import numpy as np\n",
    "import math\n",
    "import seaborn as sns\n",
    "import lightgbm as lgb\n",
    "import time\n",
    "\n",
    "from sklearn.model_selection import train_test_split, GridSearchCV\n",
    "from catboost import CatBoostRegressor\n",
    "from xgboost import XGBRegressor\n",
    "from sklearn.metrics import  mean_squared_error, mean_absolute_error, make_scorer, r2_score\n",
    "\n",
    "from sklearn.preprocessing import StandardScaler\n",
    "from sklearn.ensemble import RandomForestRegressor, GradientBoostingRegressor\n",
    "from sklearn.linear_model import LinearRegression\n",
    "from sklearn.tree import DecisionTreeRegressor"
   ]
  },
  {
   "cell_type": "code",
   "execution_count": 2,
   "metadata": {},
   "outputs": [],
   "source": [
    "df =  pd.read_csv('car_data.csv')"
   ]
  },
  {
   "cell_type": "code",
   "execution_count": 3,
   "metadata": {},
   "outputs": [
    {
     "data": {
      "text/html": [
       "<div>\n",
       "<style scoped>\n",
       "    .dataframe tbody tr th:only-of-type {\n",
       "        vertical-align: middle;\n",
       "    }\n",
       "\n",
       "    .dataframe tbody tr th {\n",
       "        vertical-align: top;\n",
       "    }\n",
       "\n",
       "    .dataframe thead th {\n",
       "        text-align: right;\n",
       "    }\n",
       "</style>\n",
       "<table border=\"1\" class=\"dataframe\">\n",
       "  <thead>\n",
       "    <tr style=\"text-align: right;\">\n",
       "      <th></th>\n",
       "      <th>DateCrawled</th>\n",
       "      <th>Price</th>\n",
       "      <th>VehicleType</th>\n",
       "      <th>RegistrationYear</th>\n",
       "      <th>Gearbox</th>\n",
       "      <th>Power</th>\n",
       "      <th>Model</th>\n",
       "      <th>Mileage</th>\n",
       "      <th>RegistrationMonth</th>\n",
       "      <th>FuelType</th>\n",
       "      <th>Brand</th>\n",
       "      <th>NotRepaired</th>\n",
       "      <th>DateCreated</th>\n",
       "      <th>NumberOfPictures</th>\n",
       "      <th>PostalCode</th>\n",
       "      <th>LastSeen</th>\n",
       "    </tr>\n",
       "  </thead>\n",
       "  <tbody>\n",
       "    <tr>\n",
       "      <th>0</th>\n",
       "      <td>24/03/2016 11:52</td>\n",
       "      <td>480</td>\n",
       "      <td>NaN</td>\n",
       "      <td>1993</td>\n",
       "      <td>manual</td>\n",
       "      <td>0</td>\n",
       "      <td>golf</td>\n",
       "      <td>150000</td>\n",
       "      <td>0</td>\n",
       "      <td>petrol</td>\n",
       "      <td>volkswagen</td>\n",
       "      <td>NaN</td>\n",
       "      <td>24/03/2016 00:00</td>\n",
       "      <td>0</td>\n",
       "      <td>70435</td>\n",
       "      <td>07/04/2016 03:16</td>\n",
       "    </tr>\n",
       "    <tr>\n",
       "      <th>1</th>\n",
       "      <td>24/03/2016 10:58</td>\n",
       "      <td>18300</td>\n",
       "      <td>coupe</td>\n",
       "      <td>2011</td>\n",
       "      <td>manual</td>\n",
       "      <td>190</td>\n",
       "      <td>NaN</td>\n",
       "      <td>125000</td>\n",
       "      <td>5</td>\n",
       "      <td>gasoline</td>\n",
       "      <td>audi</td>\n",
       "      <td>yes</td>\n",
       "      <td>24/03/2016 00:00</td>\n",
       "      <td>0</td>\n",
       "      <td>66954</td>\n",
       "      <td>07/04/2016 01:46</td>\n",
       "    </tr>\n",
       "    <tr>\n",
       "      <th>2</th>\n",
       "      <td>14/03/2016 12:52</td>\n",
       "      <td>9800</td>\n",
       "      <td>suv</td>\n",
       "      <td>2004</td>\n",
       "      <td>auto</td>\n",
       "      <td>163</td>\n",
       "      <td>grand</td>\n",
       "      <td>125000</td>\n",
       "      <td>8</td>\n",
       "      <td>gasoline</td>\n",
       "      <td>jeep</td>\n",
       "      <td>NaN</td>\n",
       "      <td>14/03/2016 00:00</td>\n",
       "      <td>0</td>\n",
       "      <td>90480</td>\n",
       "      <td>05/04/2016 12:47</td>\n",
       "    </tr>\n",
       "    <tr>\n",
       "      <th>3</th>\n",
       "      <td>17/03/2016 16:54</td>\n",
       "      <td>1500</td>\n",
       "      <td>small</td>\n",
       "      <td>2001</td>\n",
       "      <td>manual</td>\n",
       "      <td>75</td>\n",
       "      <td>golf</td>\n",
       "      <td>150000</td>\n",
       "      <td>6</td>\n",
       "      <td>petrol</td>\n",
       "      <td>volkswagen</td>\n",
       "      <td>no</td>\n",
       "      <td>17/03/2016 00:00</td>\n",
       "      <td>0</td>\n",
       "      <td>91074</td>\n",
       "      <td>17/03/2016 17:40</td>\n",
       "    </tr>\n",
       "    <tr>\n",
       "      <th>4</th>\n",
       "      <td>31/03/2016 17:25</td>\n",
       "      <td>3600</td>\n",
       "      <td>small</td>\n",
       "      <td>2008</td>\n",
       "      <td>manual</td>\n",
       "      <td>69</td>\n",
       "      <td>fabia</td>\n",
       "      <td>90000</td>\n",
       "      <td>7</td>\n",
       "      <td>gasoline</td>\n",
       "      <td>skoda</td>\n",
       "      <td>no</td>\n",
       "      <td>31/03/2016 00:00</td>\n",
       "      <td>0</td>\n",
       "      <td>60437</td>\n",
       "      <td>06/04/2016 10:17</td>\n",
       "    </tr>\n",
       "  </tbody>\n",
       "</table>\n",
       "</div>"
      ],
      "text/plain": [
       "        DateCrawled  Price VehicleType  RegistrationYear Gearbox  Power  \\\n",
       "0  24/03/2016 11:52    480         NaN              1993  manual      0   \n",
       "1  24/03/2016 10:58  18300       coupe              2011  manual    190   \n",
       "2  14/03/2016 12:52   9800         suv              2004    auto    163   \n",
       "3  17/03/2016 16:54   1500       small              2001  manual     75   \n",
       "4  31/03/2016 17:25   3600       small              2008  manual     69   \n",
       "\n",
       "   Model  Mileage  RegistrationMonth  FuelType       Brand NotRepaired  \\\n",
       "0   golf   150000                  0    petrol  volkswagen         NaN   \n",
       "1    NaN   125000                  5  gasoline        audi         yes   \n",
       "2  grand   125000                  8  gasoline        jeep         NaN   \n",
       "3   golf   150000                  6    petrol  volkswagen          no   \n",
       "4  fabia    90000                  7  gasoline       skoda          no   \n",
       "\n",
       "        DateCreated  NumberOfPictures  PostalCode          LastSeen  \n",
       "0  24/03/2016 00:00                 0       70435  07/04/2016 03:16  \n",
       "1  24/03/2016 00:00                 0       66954  07/04/2016 01:46  \n",
       "2  14/03/2016 00:00                 0       90480  05/04/2016 12:47  \n",
       "3  17/03/2016 00:00                 0       91074  17/03/2016 17:40  \n",
       "4  31/03/2016 00:00                 0       60437  06/04/2016 10:17  "
      ]
     },
     "execution_count": 3,
     "metadata": {},
     "output_type": "execute_result"
    }
   ],
   "source": [
    "df.head()"
   ]
  },
  {
   "cell_type": "code",
   "execution_count": 4,
   "metadata": {},
   "outputs": [],
   "source": [
    "df = df.rename(columns={'DateCrawled': 'date_crawled', \"Price\": 'price', \"VehicleType\": 'vehicle_type', 'RegistrationYear': 'registration_year', 'Gearbox': 'gearbox', 'Power': 'power', 'Model': 'model', 'Mileage': 'mileage', 'RegistrationMonth': 'registration_month', 'FuelType': 'fuel_type', 'Brand': 'brand', 'NotRepaired': 'not_repaired', 'DateCreated': 'date_created', 'NumberOfPictures': 'number_of_pictures', 'PostalCode': 'postal_code', 'LastSeen': 'last_seen'})"
   ]
  },
  {
   "cell_type": "code",
   "execution_count": 5,
   "metadata": {},
   "outputs": [
    {
     "data": {
      "text/html": [
       "<div>\n",
       "<style scoped>\n",
       "    .dataframe tbody tr th:only-of-type {\n",
       "        vertical-align: middle;\n",
       "    }\n",
       "\n",
       "    .dataframe tbody tr th {\n",
       "        vertical-align: top;\n",
       "    }\n",
       "\n",
       "    .dataframe thead th {\n",
       "        text-align: right;\n",
       "    }\n",
       "</style>\n",
       "<table border=\"1\" class=\"dataframe\">\n",
       "  <thead>\n",
       "    <tr style=\"text-align: right;\">\n",
       "      <th></th>\n",
       "      <th>date_crawled</th>\n",
       "      <th>price</th>\n",
       "      <th>vehicle_type</th>\n",
       "      <th>registration_year</th>\n",
       "      <th>gearbox</th>\n",
       "      <th>power</th>\n",
       "      <th>model</th>\n",
       "      <th>mileage</th>\n",
       "      <th>registration_month</th>\n",
       "      <th>fuel_type</th>\n",
       "      <th>brand</th>\n",
       "      <th>not_repaired</th>\n",
       "      <th>date_created</th>\n",
       "      <th>number_of_pictures</th>\n",
       "      <th>postal_code</th>\n",
       "      <th>last_seen</th>\n",
       "    </tr>\n",
       "  </thead>\n",
       "  <tbody>\n",
       "    <tr>\n",
       "      <th>134585</th>\n",
       "      <td>11/03/2016 20:44</td>\n",
       "      <td>4799</td>\n",
       "      <td>wagon</td>\n",
       "      <td>2004</td>\n",
       "      <td>manual</td>\n",
       "      <td>155</td>\n",
       "      <td>vectra</td>\n",
       "      <td>150000</td>\n",
       "      <td>6</td>\n",
       "      <td>petrol</td>\n",
       "      <td>opel</td>\n",
       "      <td>no</td>\n",
       "      <td>11/03/2016 00:00</td>\n",
       "      <td>0</td>\n",
       "      <td>41199</td>\n",
       "      <td>06/04/2016 03:15</td>\n",
       "    </tr>\n",
       "    <tr>\n",
       "      <th>124785</th>\n",
       "      <td>29/03/2016 08:54</td>\n",
       "      <td>4990</td>\n",
       "      <td>wagon</td>\n",
       "      <td>2005</td>\n",
       "      <td>auto</td>\n",
       "      <td>177</td>\n",
       "      <td>e_klasse</td>\n",
       "      <td>150000</td>\n",
       "      <td>9</td>\n",
       "      <td>gasoline</td>\n",
       "      <td>mercedes_benz</td>\n",
       "      <td>no</td>\n",
       "      <td>29/03/2016 00:00</td>\n",
       "      <td>0</td>\n",
       "      <td>28876</td>\n",
       "      <td>01/04/2016 21:44</td>\n",
       "    </tr>\n",
       "    <tr>\n",
       "      <th>178258</th>\n",
       "      <td>31/03/2016 15:52</td>\n",
       "      <td>5500</td>\n",
       "      <td>NaN</td>\n",
       "      <td>2017</td>\n",
       "      <td>auto</td>\n",
       "      <td>109</td>\n",
       "      <td>b_klasse</td>\n",
       "      <td>150000</td>\n",
       "      <td>4</td>\n",
       "      <td>gasoline</td>\n",
       "      <td>mercedes_benz</td>\n",
       "      <td>no</td>\n",
       "      <td>31/03/2016 00:00</td>\n",
       "      <td>0</td>\n",
       "      <td>21033</td>\n",
       "      <td>06/04/2016 08:46</td>\n",
       "    </tr>\n",
       "    <tr>\n",
       "      <th>338157</th>\n",
       "      <td>27/03/2016 14:38</td>\n",
       "      <td>11490</td>\n",
       "      <td>small</td>\n",
       "      <td>2012</td>\n",
       "      <td>manual</td>\n",
       "      <td>143</td>\n",
       "      <td>ibiza</td>\n",
       "      <td>90000</td>\n",
       "      <td>6</td>\n",
       "      <td>gasoline</td>\n",
       "      <td>seat</td>\n",
       "      <td>no</td>\n",
       "      <td>27/03/2016 00:00</td>\n",
       "      <td>0</td>\n",
       "      <td>51688</td>\n",
       "      <td>07/04/2016 10:45</td>\n",
       "    </tr>\n",
       "    <tr>\n",
       "      <th>82291</th>\n",
       "      <td>24/03/2016 16:25</td>\n",
       "      <td>14500</td>\n",
       "      <td>bus</td>\n",
       "      <td>2007</td>\n",
       "      <td>auto</td>\n",
       "      <td>190</td>\n",
       "      <td>other</td>\n",
       "      <td>125000</td>\n",
       "      <td>1</td>\n",
       "      <td>gasoline</td>\n",
       "      <td>mercedes_benz</td>\n",
       "      <td>no</td>\n",
       "      <td>24/03/2016 00:00</td>\n",
       "      <td>0</td>\n",
       "      <td>61381</td>\n",
       "      <td>04/04/2016 02:18</td>\n",
       "    </tr>\n",
       "    <tr>\n",
       "      <th>10505</th>\n",
       "      <td>01/04/2016 00:56</td>\n",
       "      <td>950</td>\n",
       "      <td>sedan</td>\n",
       "      <td>1996</td>\n",
       "      <td>manual</td>\n",
       "      <td>75</td>\n",
       "      <td>astra</td>\n",
       "      <td>150000</td>\n",
       "      <td>9</td>\n",
       "      <td>petrol</td>\n",
       "      <td>opel</td>\n",
       "      <td>no</td>\n",
       "      <td>31/03/2016 00:00</td>\n",
       "      <td>0</td>\n",
       "      <td>85057</td>\n",
       "      <td>07/04/2016 05:15</td>\n",
       "    </tr>\n",
       "    <tr>\n",
       "      <th>128934</th>\n",
       "      <td>13/03/2016 22:47</td>\n",
       "      <td>7990</td>\n",
       "      <td>suv</td>\n",
       "      <td>2009</td>\n",
       "      <td>auto</td>\n",
       "      <td>170</td>\n",
       "      <td>sorento</td>\n",
       "      <td>150000</td>\n",
       "      <td>5</td>\n",
       "      <td>gasoline</td>\n",
       "      <td>kia</td>\n",
       "      <td>no</td>\n",
       "      <td>13/03/2016 00:00</td>\n",
       "      <td>0</td>\n",
       "      <td>46145</td>\n",
       "      <td>17/03/2016 14:17</td>\n",
       "    </tr>\n",
       "    <tr>\n",
       "      <th>15648</th>\n",
       "      <td>29/03/2016 12:58</td>\n",
       "      <td>850</td>\n",
       "      <td>small</td>\n",
       "      <td>2002</td>\n",
       "      <td>manual</td>\n",
       "      <td>86</td>\n",
       "      <td>justy</td>\n",
       "      <td>150000</td>\n",
       "      <td>10</td>\n",
       "      <td>petrol</td>\n",
       "      <td>subaru</td>\n",
       "      <td>NaN</td>\n",
       "      <td>29/03/2016 00:00</td>\n",
       "      <td>0</td>\n",
       "      <td>87671</td>\n",
       "      <td>05/04/2016 22:17</td>\n",
       "    </tr>\n",
       "    <tr>\n",
       "      <th>198284</th>\n",
       "      <td>03/04/2016 12:06</td>\n",
       "      <td>13400</td>\n",
       "      <td>sedan</td>\n",
       "      <td>2009</td>\n",
       "      <td>manual</td>\n",
       "      <td>122</td>\n",
       "      <td>1er</td>\n",
       "      <td>40000</td>\n",
       "      <td>11</td>\n",
       "      <td>petrol</td>\n",
       "      <td>bmw</td>\n",
       "      <td>no</td>\n",
       "      <td>03/04/2016 00:00</td>\n",
       "      <td>0</td>\n",
       "      <td>63303</td>\n",
       "      <td>06/04/2016 18:16</td>\n",
       "    </tr>\n",
       "    <tr>\n",
       "      <th>251861</th>\n",
       "      <td>07/03/2016 16:57</td>\n",
       "      <td>500</td>\n",
       "      <td>NaN</td>\n",
       "      <td>2016</td>\n",
       "      <td>manual</td>\n",
       "      <td>0</td>\n",
       "      <td>clio</td>\n",
       "      <td>150000</td>\n",
       "      <td>10</td>\n",
       "      <td>NaN</td>\n",
       "      <td>renault</td>\n",
       "      <td>NaN</td>\n",
       "      <td>07/03/2016 00:00</td>\n",
       "      <td>0</td>\n",
       "      <td>12437</td>\n",
       "      <td>21/03/2016 08:45</td>\n",
       "    </tr>\n",
       "  </tbody>\n",
       "</table>\n",
       "</div>"
      ],
      "text/plain": [
       "            date_crawled  price vehicle_type  registration_year gearbox  \\\n",
       "134585  11/03/2016 20:44   4799        wagon               2004  manual   \n",
       "124785  29/03/2016 08:54   4990        wagon               2005    auto   \n",
       "178258  31/03/2016 15:52   5500          NaN               2017    auto   \n",
       "338157  27/03/2016 14:38  11490        small               2012  manual   \n",
       "82291   24/03/2016 16:25  14500          bus               2007    auto   \n",
       "10505   01/04/2016 00:56    950        sedan               1996  manual   \n",
       "128934  13/03/2016 22:47   7990          suv               2009    auto   \n",
       "15648   29/03/2016 12:58    850        small               2002  manual   \n",
       "198284  03/04/2016 12:06  13400        sedan               2009  manual   \n",
       "251861  07/03/2016 16:57    500          NaN               2016  manual   \n",
       "\n",
       "        power     model  mileage  registration_month fuel_type          brand  \\\n",
       "134585    155    vectra   150000                   6    petrol           opel   \n",
       "124785    177  e_klasse   150000                   9  gasoline  mercedes_benz   \n",
       "178258    109  b_klasse   150000                   4  gasoline  mercedes_benz   \n",
       "338157    143     ibiza    90000                   6  gasoline           seat   \n",
       "82291     190     other   125000                   1  gasoline  mercedes_benz   \n",
       "10505      75     astra   150000                   9    petrol           opel   \n",
       "128934    170   sorento   150000                   5  gasoline            kia   \n",
       "15648      86     justy   150000                  10    petrol         subaru   \n",
       "198284    122       1er    40000                  11    petrol            bmw   \n",
       "251861      0      clio   150000                  10       NaN        renault   \n",
       "\n",
       "       not_repaired      date_created  number_of_pictures  postal_code  \\\n",
       "134585           no  11/03/2016 00:00                   0        41199   \n",
       "124785           no  29/03/2016 00:00                   0        28876   \n",
       "178258           no  31/03/2016 00:00                   0        21033   \n",
       "338157           no  27/03/2016 00:00                   0        51688   \n",
       "82291            no  24/03/2016 00:00                   0        61381   \n",
       "10505            no  31/03/2016 00:00                   0        85057   \n",
       "128934           no  13/03/2016 00:00                   0        46145   \n",
       "15648           NaN  29/03/2016 00:00                   0        87671   \n",
       "198284           no  03/04/2016 00:00                   0        63303   \n",
       "251861          NaN  07/03/2016 00:00                   0        12437   \n",
       "\n",
       "               last_seen  \n",
       "134585  06/04/2016 03:15  \n",
       "124785  01/04/2016 21:44  \n",
       "178258  06/04/2016 08:46  \n",
       "338157  07/04/2016 10:45  \n",
       "82291   04/04/2016 02:18  \n",
       "10505   07/04/2016 05:15  \n",
       "128934  17/03/2016 14:17  \n",
       "15648   05/04/2016 22:17  \n",
       "198284  06/04/2016 18:16  \n",
       "251861  21/03/2016 08:45  "
      ]
     },
     "execution_count": 5,
     "metadata": {},
     "output_type": "execute_result"
    }
   ],
   "source": [
    "df.sample(10)"
   ]
  },
  {
   "cell_type": "code",
   "execution_count": 6,
   "metadata": {},
   "outputs": [
    {
     "data": {
      "text/plain": [
       "date_crawled              0\n",
       "price                     0\n",
       "vehicle_type          37490\n",
       "registration_year         0\n",
       "gearbox               19833\n",
       "power                     0\n",
       "model                 19705\n",
       "mileage                   0\n",
       "registration_month        0\n",
       "fuel_type             32895\n",
       "brand                     0\n",
       "not_repaired          71154\n",
       "date_created              0\n",
       "number_of_pictures        0\n",
       "postal_code               0\n",
       "last_seen                 0\n",
       "dtype: int64"
      ]
     },
     "execution_count": 6,
     "metadata": {},
     "output_type": "execute_result"
    }
   ],
   "source": [
    "df.isna().sum()"
   ]
  },
  {
   "cell_type": "code",
   "execution_count": 7,
   "metadata": {},
   "outputs": [],
   "source": [
    "\n",
    "df['vehicle_type'].fillna('Unknown', inplace=True)\n",
    "df['gearbox'].fillna('Unknown', inplace=True)\n",
    "df['model'].fillna('Unknown', inplace=True)\n",
    "df['fuel_type'].fillna('Unknown', inplace=True)\n",
    "df['not_repaired'].fillna('Unknown', inplace=True)"
   ]
  },
  {
   "cell_type": "code",
   "execution_count": 8,
   "metadata": {},
   "outputs": [],
   "source": [
    "df.drop_duplicates(inplace=True)"
   ]
  },
  {
   "cell_type": "code",
   "execution_count": 9,
   "metadata": {
    "scrolled": true
   },
   "outputs": [
    {
     "name": "stdout",
     "output_type": "stream",
     "text": [
      "Duplicated values: 0\n",
      "Missing values: date_crawled          0\n",
      "price                 0\n",
      "vehicle_type          0\n",
      "registration_year     0\n",
      "gearbox               0\n",
      "power                 0\n",
      "model                 0\n",
      "mileage               0\n",
      "registration_month    0\n",
      "fuel_type             0\n",
      "brand                 0\n",
      "not_repaired          0\n",
      "date_created          0\n",
      "number_of_pictures    0\n",
      "postal_code           0\n",
      "last_seen             0\n",
      "dtype: int64\n"
     ]
    }
   ],
   "source": [
    "print(f\"Duplicated values: {df.duplicated().sum()}\")\n",
    "print(f\"Missing values: {df.isna().sum()}\")"
   ]
  },
  {
   "cell_type": "code",
   "execution_count": 10,
   "metadata": {},
   "outputs": [],
   "source": [
    "df = df.drop(['date_crawled', 'date_created', 'number_of_pictures'], axis=1)"
   ]
  },
  {
   "cell_type": "code",
   "execution_count": 11,
   "metadata": {},
   "outputs": [],
   "source": [
    "# Convert the 'date' column to datetime format\n",
    "df['last_seen'] = pd.to_datetime(df['last_seen'])\n",
    "# Extract year, month, day, and hour as new features\n",
    "df['year'] = df['last_seen'].dt.year\n",
    "df['month'] = df['last_seen'].dt.month\n",
    "df['day'] = df['last_seen'].dt.day\n",
    "df['hour'] = df['last_seen'].dt.hour\n",
    "\n",
    "# Convert 'date' to timestamp and then to float32\n",
    "df['last_seen'] = df['last_seen'].astype(np.int64) / 10**9  # Convert to seconds\n",
    "df['last_seen'] = df['last_seen'].astype('float32')"
   ]
  },
  {
   "cell_type": "code",
   "execution_count": 12,
   "metadata": {},
   "outputs": [
    {
     "data": {
      "text/html": [
       "<div>\n",
       "<style scoped>\n",
       "    .dataframe tbody tr th:only-of-type {\n",
       "        vertical-align: middle;\n",
       "    }\n",
       "\n",
       "    .dataframe tbody tr th {\n",
       "        vertical-align: top;\n",
       "    }\n",
       "\n",
       "    .dataframe thead th {\n",
       "        text-align: right;\n",
       "    }\n",
       "</style>\n",
       "<table border=\"1\" class=\"dataframe\">\n",
       "  <thead>\n",
       "    <tr style=\"text-align: right;\">\n",
       "      <th></th>\n",
       "      <th>price</th>\n",
       "      <th>vehicle_type</th>\n",
       "      <th>registration_year</th>\n",
       "      <th>gearbox</th>\n",
       "      <th>power</th>\n",
       "      <th>model</th>\n",
       "      <th>mileage</th>\n",
       "      <th>registration_month</th>\n",
       "      <th>fuel_type</th>\n",
       "      <th>brand</th>\n",
       "      <th>not_repaired</th>\n",
       "      <th>postal_code</th>\n",
       "      <th>last_seen</th>\n",
       "      <th>year</th>\n",
       "      <th>month</th>\n",
       "      <th>day</th>\n",
       "      <th>hour</th>\n",
       "    </tr>\n",
       "  </thead>\n",
       "  <tbody>\n",
       "    <tr>\n",
       "      <th>0</th>\n",
       "      <td>480</td>\n",
       "      <td>Unknown</td>\n",
       "      <td>1993</td>\n",
       "      <td>manual</td>\n",
       "      <td>0</td>\n",
       "      <td>golf</td>\n",
       "      <td>150000</td>\n",
       "      <td>0</td>\n",
       "      <td>petrol</td>\n",
       "      <td>volkswagen</td>\n",
       "      <td>Unknown</td>\n",
       "      <td>70435</td>\n",
       "      <td>1.467602e+09</td>\n",
       "      <td>2016</td>\n",
       "      <td>7</td>\n",
       "      <td>4</td>\n",
       "      <td>3</td>\n",
       "    </tr>\n",
       "    <tr>\n",
       "      <th>1</th>\n",
       "      <td>18300</td>\n",
       "      <td>coupe</td>\n",
       "      <td>2011</td>\n",
       "      <td>manual</td>\n",
       "      <td>190</td>\n",
       "      <td>Unknown</td>\n",
       "      <td>125000</td>\n",
       "      <td>5</td>\n",
       "      <td>gasoline</td>\n",
       "      <td>audi</td>\n",
       "      <td>yes</td>\n",
       "      <td>66954</td>\n",
       "      <td>1.467597e+09</td>\n",
       "      <td>2016</td>\n",
       "      <td>7</td>\n",
       "      <td>4</td>\n",
       "      <td>1</td>\n",
       "    </tr>\n",
       "    <tr>\n",
       "      <th>2</th>\n",
       "      <td>9800</td>\n",
       "      <td>suv</td>\n",
       "      <td>2004</td>\n",
       "      <td>auto</td>\n",
       "      <td>163</td>\n",
       "      <td>grand</td>\n",
       "      <td>125000</td>\n",
       "      <td>8</td>\n",
       "      <td>gasoline</td>\n",
       "      <td>jeep</td>\n",
       "      <td>Unknown</td>\n",
       "      <td>90480</td>\n",
       "      <td>1.462366e+09</td>\n",
       "      <td>2016</td>\n",
       "      <td>5</td>\n",
       "      <td>4</td>\n",
       "      <td>12</td>\n",
       "    </tr>\n",
       "    <tr>\n",
       "      <th>3</th>\n",
       "      <td>1500</td>\n",
       "      <td>small</td>\n",
       "      <td>2001</td>\n",
       "      <td>manual</td>\n",
       "      <td>75</td>\n",
       "      <td>golf</td>\n",
       "      <td>150000</td>\n",
       "      <td>6</td>\n",
       "      <td>petrol</td>\n",
       "      <td>volkswagen</td>\n",
       "      <td>no</td>\n",
       "      <td>91074</td>\n",
       "      <td>1.458236e+09</td>\n",
       "      <td>2016</td>\n",
       "      <td>3</td>\n",
       "      <td>17</td>\n",
       "      <td>17</td>\n",
       "    </tr>\n",
       "    <tr>\n",
       "      <th>4</th>\n",
       "      <td>3600</td>\n",
       "      <td>small</td>\n",
       "      <td>2008</td>\n",
       "      <td>manual</td>\n",
       "      <td>69</td>\n",
       "      <td>fabia</td>\n",
       "      <td>90000</td>\n",
       "      <td>7</td>\n",
       "      <td>gasoline</td>\n",
       "      <td>skoda</td>\n",
       "      <td>no</td>\n",
       "      <td>60437</td>\n",
       "      <td>1.465035e+09</td>\n",
       "      <td>2016</td>\n",
       "      <td>6</td>\n",
       "      <td>4</td>\n",
       "      <td>10</td>\n",
       "    </tr>\n",
       "    <tr>\n",
       "      <th>5</th>\n",
       "      <td>650</td>\n",
       "      <td>sedan</td>\n",
       "      <td>1995</td>\n",
       "      <td>manual</td>\n",
       "      <td>102</td>\n",
       "      <td>3er</td>\n",
       "      <td>150000</td>\n",
       "      <td>10</td>\n",
       "      <td>petrol</td>\n",
       "      <td>bmw</td>\n",
       "      <td>yes</td>\n",
       "      <td>33775</td>\n",
       "      <td>1.465068e+09</td>\n",
       "      <td>2016</td>\n",
       "      <td>6</td>\n",
       "      <td>4</td>\n",
       "      <td>19</td>\n",
       "    </tr>\n",
       "    <tr>\n",
       "      <th>6</th>\n",
       "      <td>2200</td>\n",
       "      <td>convertible</td>\n",
       "      <td>2004</td>\n",
       "      <td>manual</td>\n",
       "      <td>109</td>\n",
       "      <td>2_reihe</td>\n",
       "      <td>150000</td>\n",
       "      <td>8</td>\n",
       "      <td>petrol</td>\n",
       "      <td>peugeot</td>\n",
       "      <td>no</td>\n",
       "      <td>67112</td>\n",
       "      <td>1.462386e+09</td>\n",
       "      <td>2016</td>\n",
       "      <td>5</td>\n",
       "      <td>4</td>\n",
       "      <td>18</td>\n",
       "    </tr>\n",
       "    <tr>\n",
       "      <th>7</th>\n",
       "      <td>0</td>\n",
       "      <td>sedan</td>\n",
       "      <td>1980</td>\n",
       "      <td>manual</td>\n",
       "      <td>50</td>\n",
       "      <td>other</td>\n",
       "      <td>40000</td>\n",
       "      <td>7</td>\n",
       "      <td>petrol</td>\n",
       "      <td>volkswagen</td>\n",
       "      <td>no</td>\n",
       "      <td>19348</td>\n",
       "      <td>1.458924e+09</td>\n",
       "      <td>2016</td>\n",
       "      <td>3</td>\n",
       "      <td>25</td>\n",
       "      <td>16</td>\n",
       "    </tr>\n",
       "    <tr>\n",
       "      <th>8</th>\n",
       "      <td>14500</td>\n",
       "      <td>bus</td>\n",
       "      <td>2014</td>\n",
       "      <td>manual</td>\n",
       "      <td>125</td>\n",
       "      <td>c_max</td>\n",
       "      <td>30000</td>\n",
       "      <td>8</td>\n",
       "      <td>petrol</td>\n",
       "      <td>ford</td>\n",
       "      <td>Unknown</td>\n",
       "      <td>94505</td>\n",
       "      <td>1.459813e+09</td>\n",
       "      <td>2016</td>\n",
       "      <td>4</td>\n",
       "      <td>4</td>\n",
       "      <td>23</td>\n",
       "    </tr>\n",
       "    <tr>\n",
       "      <th>9</th>\n",
       "      <td>999</td>\n",
       "      <td>small</td>\n",
       "      <td>1998</td>\n",
       "      <td>manual</td>\n",
       "      <td>101</td>\n",
       "      <td>golf</td>\n",
       "      <td>150000</td>\n",
       "      <td>0</td>\n",
       "      <td>Unknown</td>\n",
       "      <td>volkswagen</td>\n",
       "      <td>Unknown</td>\n",
       "      <td>27472</td>\n",
       "      <td>1.459445e+09</td>\n",
       "      <td>2016</td>\n",
       "      <td>3</td>\n",
       "      <td>31</td>\n",
       "      <td>17</td>\n",
       "    </tr>\n",
       "    <tr>\n",
       "      <th>10</th>\n",
       "      <td>2000</td>\n",
       "      <td>sedan</td>\n",
       "      <td>2004</td>\n",
       "      <td>manual</td>\n",
       "      <td>105</td>\n",
       "      <td>3_reihe</td>\n",
       "      <td>150000</td>\n",
       "      <td>12</td>\n",
       "      <td>petrol</td>\n",
       "      <td>mazda</td>\n",
       "      <td>no</td>\n",
       "      <td>96224</td>\n",
       "      <td>1.465037e+09</td>\n",
       "      <td>2016</td>\n",
       "      <td>6</td>\n",
       "      <td>4</td>\n",
       "      <td>10</td>\n",
       "    </tr>\n",
       "    <tr>\n",
       "      <th>11</th>\n",
       "      <td>2799</td>\n",
       "      <td>wagon</td>\n",
       "      <td>2005</td>\n",
       "      <td>manual</td>\n",
       "      <td>140</td>\n",
       "      <td>passat</td>\n",
       "      <td>150000</td>\n",
       "      <td>12</td>\n",
       "      <td>gasoline</td>\n",
       "      <td>volkswagen</td>\n",
       "      <td>yes</td>\n",
       "      <td>57290</td>\n",
       "      <td>1.467628e+09</td>\n",
       "      <td>2016</td>\n",
       "      <td>7</td>\n",
       "      <td>4</td>\n",
       "      <td>10</td>\n",
       "    </tr>\n",
       "    <tr>\n",
       "      <th>12</th>\n",
       "      <td>999</td>\n",
       "      <td>wagon</td>\n",
       "      <td>1995</td>\n",
       "      <td>manual</td>\n",
       "      <td>115</td>\n",
       "      <td>passat</td>\n",
       "      <td>150000</td>\n",
       "      <td>11</td>\n",
       "      <td>petrol</td>\n",
       "      <td>volkswagen</td>\n",
       "      <td>Unknown</td>\n",
       "      <td>37269</td>\n",
       "      <td>1.451913e+09</td>\n",
       "      <td>2016</td>\n",
       "      <td>1</td>\n",
       "      <td>4</td>\n",
       "      <td>13</td>\n",
       "    </tr>\n",
       "    <tr>\n",
       "      <th>13</th>\n",
       "      <td>2500</td>\n",
       "      <td>wagon</td>\n",
       "      <td>2004</td>\n",
       "      <td>manual</td>\n",
       "      <td>131</td>\n",
       "      <td>passat</td>\n",
       "      <td>150000</td>\n",
       "      <td>2</td>\n",
       "      <td>Unknown</td>\n",
       "      <td>volkswagen</td>\n",
       "      <td>no</td>\n",
       "      <td>90762</td>\n",
       "      <td>1.458701e+09</td>\n",
       "      <td>2016</td>\n",
       "      <td>3</td>\n",
       "      <td>23</td>\n",
       "      <td>2</td>\n",
       "    </tr>\n",
       "    <tr>\n",
       "      <th>14</th>\n",
       "      <td>17999</td>\n",
       "      <td>suv</td>\n",
       "      <td>2011</td>\n",
       "      <td>manual</td>\n",
       "      <td>190</td>\n",
       "      <td>navara</td>\n",
       "      <td>70000</td>\n",
       "      <td>3</td>\n",
       "      <td>gasoline</td>\n",
       "      <td>nissan</td>\n",
       "      <td>no</td>\n",
       "      <td>4177</td>\n",
       "      <td>1.465026e+09</td>\n",
       "      <td>2016</td>\n",
       "      <td>6</td>\n",
       "      <td>4</td>\n",
       "      <td>7</td>\n",
       "    </tr>\n",
       "    <tr>\n",
       "      <th>15</th>\n",
       "      <td>450</td>\n",
       "      <td>small</td>\n",
       "      <td>1910</td>\n",
       "      <td>Unknown</td>\n",
       "      <td>0</td>\n",
       "      <td>ka</td>\n",
       "      <td>5000</td>\n",
       "      <td>0</td>\n",
       "      <td>petrol</td>\n",
       "      <td>ford</td>\n",
       "      <td>Unknown</td>\n",
       "      <td>24148</td>\n",
       "      <td>1.458377e+09</td>\n",
       "      <td>2016</td>\n",
       "      <td>3</td>\n",
       "      <td>19</td>\n",
       "      <td>8</td>\n",
       "    </tr>\n",
       "    <tr>\n",
       "      <th>16</th>\n",
       "      <td>300</td>\n",
       "      <td>Unknown</td>\n",
       "      <td>2016</td>\n",
       "      <td>Unknown</td>\n",
       "      <td>60</td>\n",
       "      <td>polo</td>\n",
       "      <td>150000</td>\n",
       "      <td>0</td>\n",
       "      <td>petrol</td>\n",
       "      <td>volkswagen</td>\n",
       "      <td>Unknown</td>\n",
       "      <td>38871</td>\n",
       "      <td>1.451912e+09</td>\n",
       "      <td>2016</td>\n",
       "      <td>1</td>\n",
       "      <td>4</td>\n",
       "      <td>12</td>\n",
       "    </tr>\n",
       "    <tr>\n",
       "      <th>17</th>\n",
       "      <td>1750</td>\n",
       "      <td>small</td>\n",
       "      <td>2004</td>\n",
       "      <td>auto</td>\n",
       "      <td>75</td>\n",
       "      <td>twingo</td>\n",
       "      <td>150000</td>\n",
       "      <td>2</td>\n",
       "      <td>petrol</td>\n",
       "      <td>renault</td>\n",
       "      <td>no</td>\n",
       "      <td>65599</td>\n",
       "      <td>1.465046e+09</td>\n",
       "      <td>2016</td>\n",
       "      <td>6</td>\n",
       "      <td>4</td>\n",
       "      <td>13</td>\n",
       "    </tr>\n",
       "    <tr>\n",
       "      <th>18</th>\n",
       "      <td>7550</td>\n",
       "      <td>bus</td>\n",
       "      <td>2007</td>\n",
       "      <td>manual</td>\n",
       "      <td>136</td>\n",
       "      <td>c_max</td>\n",
       "      <td>150000</td>\n",
       "      <td>6</td>\n",
       "      <td>gasoline</td>\n",
       "      <td>ford</td>\n",
       "      <td>no</td>\n",
       "      <td>88361</td>\n",
       "      <td>1.462387e+09</td>\n",
       "      <td>2016</td>\n",
       "      <td>5</td>\n",
       "      <td>4</td>\n",
       "      <td>18</td>\n",
       "    </tr>\n",
       "    <tr>\n",
       "      <th>19</th>\n",
       "      <td>1850</td>\n",
       "      <td>bus</td>\n",
       "      <td>2004</td>\n",
       "      <td>manual</td>\n",
       "      <td>102</td>\n",
       "      <td>a_klasse</td>\n",
       "      <td>150000</td>\n",
       "      <td>1</td>\n",
       "      <td>petrol</td>\n",
       "      <td>mercedes_benz</td>\n",
       "      <td>no</td>\n",
       "      <td>49565</td>\n",
       "      <td>1.462402e+09</td>\n",
       "      <td>2016</td>\n",
       "      <td>5</td>\n",
       "      <td>4</td>\n",
       "      <td>22</td>\n",
       "    </tr>\n",
       "  </tbody>\n",
       "</table>\n",
       "</div>"
      ],
      "text/plain": [
       "    price vehicle_type  registration_year  gearbox  power     model  mileage  \\\n",
       "0     480      Unknown               1993   manual      0      golf   150000   \n",
       "1   18300        coupe               2011   manual    190   Unknown   125000   \n",
       "2    9800          suv               2004     auto    163     grand   125000   \n",
       "3    1500        small               2001   manual     75      golf   150000   \n",
       "4    3600        small               2008   manual     69     fabia    90000   \n",
       "5     650        sedan               1995   manual    102       3er   150000   \n",
       "6    2200  convertible               2004   manual    109   2_reihe   150000   \n",
       "7       0        sedan               1980   manual     50     other    40000   \n",
       "8   14500          bus               2014   manual    125     c_max    30000   \n",
       "9     999        small               1998   manual    101      golf   150000   \n",
       "10   2000        sedan               2004   manual    105   3_reihe   150000   \n",
       "11   2799        wagon               2005   manual    140    passat   150000   \n",
       "12    999        wagon               1995   manual    115    passat   150000   \n",
       "13   2500        wagon               2004   manual    131    passat   150000   \n",
       "14  17999          suv               2011   manual    190    navara    70000   \n",
       "15    450        small               1910  Unknown      0        ka     5000   \n",
       "16    300      Unknown               2016  Unknown     60      polo   150000   \n",
       "17   1750        small               2004     auto     75    twingo   150000   \n",
       "18   7550          bus               2007   manual    136     c_max   150000   \n",
       "19   1850          bus               2004   manual    102  a_klasse   150000   \n",
       "\n",
       "    registration_month fuel_type          brand not_repaired  postal_code  \\\n",
       "0                    0    petrol     volkswagen      Unknown        70435   \n",
       "1                    5  gasoline           audi          yes        66954   \n",
       "2                    8  gasoline           jeep      Unknown        90480   \n",
       "3                    6    petrol     volkswagen           no        91074   \n",
       "4                    7  gasoline          skoda           no        60437   \n",
       "5                   10    petrol            bmw          yes        33775   \n",
       "6                    8    petrol        peugeot           no        67112   \n",
       "7                    7    petrol     volkswagen           no        19348   \n",
       "8                    8    petrol           ford      Unknown        94505   \n",
       "9                    0   Unknown     volkswagen      Unknown        27472   \n",
       "10                  12    petrol          mazda           no        96224   \n",
       "11                  12  gasoline     volkswagen          yes        57290   \n",
       "12                  11    petrol     volkswagen      Unknown        37269   \n",
       "13                   2   Unknown     volkswagen           no        90762   \n",
       "14                   3  gasoline         nissan           no         4177   \n",
       "15                   0    petrol           ford      Unknown        24148   \n",
       "16                   0    petrol     volkswagen      Unknown        38871   \n",
       "17                   2    petrol        renault           no        65599   \n",
       "18                   6  gasoline           ford           no        88361   \n",
       "19                   1    petrol  mercedes_benz           no        49565   \n",
       "\n",
       "       last_seen  year  month  day  hour  \n",
       "0   1.467602e+09  2016      7    4     3  \n",
       "1   1.467597e+09  2016      7    4     1  \n",
       "2   1.462366e+09  2016      5    4    12  \n",
       "3   1.458236e+09  2016      3   17    17  \n",
       "4   1.465035e+09  2016      6    4    10  \n",
       "5   1.465068e+09  2016      6    4    19  \n",
       "6   1.462386e+09  2016      5    4    18  \n",
       "7   1.458924e+09  2016      3   25    16  \n",
       "8   1.459813e+09  2016      4    4    23  \n",
       "9   1.459445e+09  2016      3   31    17  \n",
       "10  1.465037e+09  2016      6    4    10  \n",
       "11  1.467628e+09  2016      7    4    10  \n",
       "12  1.451913e+09  2016      1    4    13  \n",
       "13  1.458701e+09  2016      3   23     2  \n",
       "14  1.465026e+09  2016      6    4     7  \n",
       "15  1.458377e+09  2016      3   19     8  \n",
       "16  1.451912e+09  2016      1    4    12  \n",
       "17  1.465046e+09  2016      6    4    13  \n",
       "18  1.462387e+09  2016      5    4    18  \n",
       "19  1.462402e+09  2016      5    4    22  "
      ]
     },
     "execution_count": 12,
     "metadata": {},
     "output_type": "execute_result"
    }
   ],
   "source": [
    "df.head(20)"
   ]
  },
  {
   "cell_type": "markdown",
   "metadata": {},
   "source": [
    "## Model training"
   ]
  },
  {
   "cell_type": "code",
   "execution_count": 17,
   "metadata": {},
   "outputs": [],
   "source": [
    "\n",
    "X = df.drop(['price'], axis=1)\n",
    "y = df['price']\n",
    "X_train, X_test, y_train, y_test = train_test_split(X, y, test_size=0.2, random_state=42)\n",
    "numerical_features = X_train.select_dtypes(include=['int64', 'float64']).columns\n",
    "\n",
    "df = pd.get_dummies(df,drop_first=True)\n",
    "\n"
   ]
  },
  {
   "cell_type": "code",
   "execution_count": 14,
   "metadata": {},
   "outputs": [],
   "source": [
    "# Creating function to evaluate the models\n",
    "def evaluate_model(preds, y_test):\n",
    "    rmse = mean_squared_error(y_test, preds, squared=False)\n",
    "    mae = mean_absolute_error(y_test, preds)\n",
    "    r2 = r2_score(y_test, preds)\n",
    "    return rmse, mae, r2\n"
   ]
  },
  {
   "cell_type": "code",
   "execution_count": 15,
   "metadata": {},
   "outputs": [
    {
     "name": "stdout",
     "output_type": "stream",
     "text": [
      "<class 'pandas.core.frame.DataFrame'>\n",
      "Int64Index: 354107 entries, 0 to 354368\n",
      "Columns: 319 entries, price to not_repaired_yes\n",
      "dtypes: float32(1), int64(10), uint8(308)\n",
      "memory usage: 135.1 MB\n"
     ]
    }
   ],
   "source": [
    "df.info()"
   ]
  },
  {
   "cell_type": "code",
   "execution_count": 18,
   "metadata": {},
   "outputs": [],
   "source": [
    "#Scaling numerical features\n",
    "\n",
    "scaler = StandardScaler()\n",
    "X_train_scaled = scaler.fit_transform(X_train[numerical_features])\n",
    "X_test_scaled = scaler.transform(X_test[numerical_features])"
   ]
  },
  {
   "cell_type": "code",
   "execution_count": 19,
   "metadata": {
    "scrolled": true
   },
   "outputs": [
    {
     "name": "stdout",
     "output_type": "stream",
     "text": [
      "CPU times: user 3 µs, sys: 0 ns, total: 3 µs\n",
      "Wall time: 6.68 µs\n",
      "Linear Regression - RMSE: 4109.2684009096165, MAE: 3072.435152634596, R2: 0.16522972957169735\n",
      "Linear Regression - Training Time: 0.034822940826416016 seconds, Prediction Time: 0.004396677017211914 seconds\n"
     ]
    }
   ],
   "source": [
    "%time\n",
    "\n",
    "\n",
    "# Train a Linear Regression model\n",
    "lr_model = LinearRegression()\n",
    "lr_start_time = time.time()\n",
    "lr_model.fit(X_train_scaled, y_train)\n",
    "lr_end_time = time.time()\n",
    "lr_training_time = lr_end_time - lr_start_time\n",
    "\n",
    "lr_start_time = time.time()\n",
    "lr_preds = lr_model.predict(X_test_scaled)\n",
    "lr_end_time = time.time()\n",
    "lr_prediction_time = lr_end_time - lr_start_time\n",
    "\n",
    "lr_rmse, lr_mae, lr_r2 = evaluate_model(lr_preds, y_test)\n",
    "print(f\"Linear Regression - RMSE: {lr_rmse}, MAE: {lr_mae}, R2: {lr_r2}\")\n",
    "\n",
    "print(f\"Linear Regression - Training Time: {lr_training_time} seconds, Prediction Time: {lr_prediction_time} seconds\")"
   ]
  },
  {
   "cell_type": "code",
   "execution_count": 20,
   "metadata": {},
   "outputs": [
    {
     "name": "stdout",
     "output_type": "stream",
     "text": [
      "CPU times: user 3 µs, sys: 1 µs, total: 4 µs\n",
      "Wall time: 6.44 µs\n",
      "Decision Tree - RMSE: 2356.9450273686753, MAE: 1340.8334910056196, R2: 0.7253770277928431\n",
      "Best Decision Tree Regressor - Training Time: 8.32465648651123 seconds, Prediction Time: 0.08254742622375488 seconds\n",
      "Best Hyperparameters: {'max_depth': 10, 'min_samples_split': 10}\n"
     ]
    }
   ],
   "source": [
    "%time\n",
    "# Train a Decision Tree model\n",
    "dt_model = DecisionTreeRegressor(random_state=12345)\n",
    "# Define the hyperparameters to tune\n",
    "param_grid = {\n",
    "    'max_depth': [3,5,7,10],\n",
    "    'min_samples_split': [2,5,10]\n",
    "}\n",
    "\n",
    "# Use GridSearchCV to find the best hyperparameters\n",
    "grid_search = GridSearchCV(estimator=dt_model, param_grid=param_grid, cv=5, n_jobs=-1, scoring='neg_mean_squared_error')\n",
    "grid_search.fit(X_train, y_train)\n",
    "\n",
    "# Get the best model\n",
    "best_dt_model = grid_search.best_estimator_\n",
    "\n",
    "\n",
    "\n",
    "dt_start_time = time.time()\n",
    "dt_model.fit(X_train, y_train)\n",
    "dt_end_time = time.time()\n",
    "dt_train_time = dt_end_time - dt_start_time\n",
    "\n",
    "dt_start_time = time.time()\n",
    "dt_preds = dt_model.predict(X_test)\n",
    "dt_end_time = time.time()\n",
    "dt_prediction_time = dt_end_time - dt_start_time\n",
    "\n",
    "\n",
    "dt_rmse, dt_mae, dt_r2 = evaluate_model(dt_preds, y_test)\n",
    "print(f\"Decision Tree - RMSE: {dt_rmse}, MAE: {dt_mae}, R2: {dt_r2}\")\n",
    "\n",
    "print(f\"Best Decision Tree Regressor - Training Time: {dt_train_time} seconds, Prediction Time: {dt_prediction_time} seconds\")\n",
    "print(f\"Best Hyperparameters: {grid_search.best_params_}\")"
   ]
  },
  {
   "cell_type": "code",
   "execution_count": 21,
   "metadata": {},
   "outputs": [
    {
     "name": "stdout",
     "output_type": "stream",
     "text": [
      "CPU times: user 2 µs, sys: 0 ns, total: 2 µs\n",
      "Wall time: 5.01 µs\n",
      "Random Forest - RMSE: 2008.8161273335397, MAE: 1299.0173194508595, R2: 0.8005112866452901\n",
      "Random Forest - Training Time: 277.8753926753998 seconds, Prediction Time: 0.582298755645752 seconds\n"
     ]
    }
   ],
   "source": [
    "%time\n",
    "# Train a Random Forest model \n",
    "rf_model = RandomForestRegressor(n_estimators=100, max_depth=10, random_state=42)\n",
    "rf_start_time = time.time()\n",
    "rf_model.fit(X_train, y_train)\n",
    "rf_end_time = time.time()\n",
    "rf_train_time = rf_end_time - rf_start_time\n",
    "\n",
    "rf_start_time = time.time()\n",
    "rf_preds = rf_model.predict(X_test)\n",
    "rf_end_time = time.time()\n",
    "rf_pred_time = rf_end_time - rf_start_time\n",
    "\n",
    "rf_rmse, rf_mae, rf_r2 = evaluate_model(rf_preds, y_test)\n",
    "print(f\"Random Forest - RMSE: {rf_rmse}, MAE: {rf_mae}, R2: {rf_r2}\")\n",
    "print(f\"Random Forest - Training Time: {rf_train_time} seconds, Prediction Time: {rf_pred_time} seconds\")"
   ]
  },
  {
   "cell_type": "code",
   "execution_count": 20,
   "metadata": {},
   "outputs": [
    {
     "name": "stdout",
     "output_type": "stream",
     "text": [
      "[LightGBM] [Warning] Auto-choosing row-wise multi-threading, the overhead of testing was 0.007633 seconds.\n",
      "You can set `force_row_wise=true` to remove the overhead.\n",
      "And if memory is not enough, you can set `force_col_wise=true`.\n",
      "[LightGBM] [Info] Total Bins 1547\n",
      "[LightGBM] [Info] Number of data points in the train set: 283285, number of used features: 307\n",
      "[LightGBM] [Info] Start training from score 4418.702272\n",
      "CPU times: user 3 µs, sys: 0 ns, total: 3 µs\n",
      "Wall time: 5.96 µs\n",
      "LightGBM - RMSE: 1883.1422804757233, MAE: 1190.5678497958877, R2: 0.8246909948714369\n",
      "LightGBM - Training Time: 5.700544595718384 seconds, Prediction Time: 0.5975062847137451 seconds\n"
     ]
    }
   ],
   "source": [
    "\n",
    "# Train a LightGBM model with hyperparameter tuning\n",
    "lgb_train = lgb.Dataset(X_train, y_train)\n",
    "lgb_params = {\n",
    "    'objective': 'regression',\n",
    "    'metric': 'rmse',\n",
    "    'num_leaves': 31,\n",
    "    'learning_rate': 0.05,\n",
    "    'feature_fraction': 0.9\n",
    "}\n",
    "lg_start_time = time.time()\n",
    "lgb_model = lgb.train(lgb_params, lgb_train, num_boost_round=100)\n",
    "lg_end_time = time.time()\n",
    "lg_train_time = lg_end_time - lg_start_time\n",
    "\n",
    "lg_start_time = time.time()\n",
    "lgb_preds = lgb_model.predict(X_test)\n",
    "lg_end_time = time.time()\n",
    "lg_pred_time = lg_end_time - lg_start_time\n",
    "%time\n",
    "\n",
    "lgb_rmse, lgb_mae, lgb_r2 = evaluate_model(lgb_preds, y_test)\n",
    "print(f\"LightGBM - RMSE: {lgb_rmse}, MAE: {lgb_mae}, R2: {lgb_r2}\")\n",
    "\n",
    "print(f\"LightGBM - Training Time: {lg_train_time} seconds, Prediction Time: {lg_pred_time} seconds\")"
   ]
  },
  {
   "cell_type": "code",
   "execution_count": 22,
   "metadata": {},
   "outputs": [
    {
     "name": "stdout",
     "output_type": "stream",
     "text": [
      "CPU times: user 4 µs, sys: 1e+03 ns, total: 5 µs\n",
      "Wall time: 7.87 µs\n",
      "CatBoost - RMSE: 1921.0681474270573, MAE: 1219.7630650580936, R2: 0.8175585568673962\n",
      "Cat Boost - Training Time: 4.636782646179199 seconds, Prediction Time: 0.026078224182128906 seconds\n"
     ]
    }
   ],
   "source": [
    "\n",
    "# Train a CatBoost model with hyperparameter tuning\n",
    "cat_model = CatBoostRegressor(iterations=100, learning_rate=0.1, depth=6, random_state=12345, verbose=0)\n",
    "cat_start_time = time.time()\n",
    "cat_model.fit(X_train, y_train)\n",
    "cat_end_time = time.time()\n",
    "cat_train_time = cat_end_time - cat_start_time\n",
    "\n",
    "cat_start_time = time.time()\n",
    "cat_preds = cat_model.predict(X_test)\n",
    "cat_end_time = time.time()\n",
    "cat_pred_time = cat_end_time - cat_start_time\n",
    "\n",
    "%time\n",
    "\n",
    "cat_rmse, cat_mae, cat_r2 = evaluate_model(cat_preds, y_test)\n",
    "print(f\"CatBoost - RMSE: {cat_rmse}, MAE: {cat_mae}, R2: {cat_r2}\")\n",
    "print(f\"Cat Boost - Training Time: {cat_train_time} seconds, Prediction Time: {cat_pred_time} seconds\")"
   ]
  },
  {
   "cell_type": "code",
   "execution_count": 23,
   "metadata": {},
   "outputs": [
    {
     "name": "stdout",
     "output_type": "stream",
     "text": [
      "CPU times: user 4 µs, sys: 0 ns, total: 4 µs\n",
      "Wall time: 5.96 µs\n",
      "XGBoost - Training Time: 340.5770080089569 seconds, Prediction Time: 0.6043856143951416 seconds\n"
     ]
    }
   ],
   "source": [
    "\n",
    "# Train an XGBoost model with hyperparameter tuning\n",
    "\n",
    "xgb_model = XGBRegressor(n_estimators=100, learning_rate=0.1, max_depth=6, random_state=12345)\n",
    "xgb_start_time = time.time()\n",
    "xgb_model.fit(X_train, y_train)\n",
    "xgb_end_time = time.time()\n",
    "xgb_train_time = xgb_end_time - xgb_start_time\n",
    "\n",
    "xgb_start_time = time.time()\n",
    "xgb_preds = xgb_model.predict(X_test)\n",
    "xgb_end_time = time.time()\n",
    "xgb_pred_time = xgb_end_time - xgb_start_time\n",
    "\n",
    "%time\n",
    "\n",
    "print(f\"XGBoost - Training Time: {xgb_train_time} seconds, Prediction Time: {xgb_pred_time} seconds\")"
   ]
  },
  {
   "cell_type": "markdown",
   "metadata": {},
   "source": [
    "---"
   ]
  },
  {
   "cell_type": "markdown",
   "metadata": {},
   "source": [
    "## Model analysis"
   ]
  },
  {
   "cell_type": "markdown",
   "metadata": {},
   "source": [
    "# Model Quality"
   ]
  },
  {
   "cell_type": "markdown",
   "metadata": {},
   "source": [
    "**Decision Tree Regression**:\n",
    "RMSE: 2356.94  \n",
    "MAE: 1340.82  \n",
    "R²: 0.72 \n",
    "Analysis: This model performs slightly worse than Random Forest but not nearly as poorly as Linear Regression\n",
    "\n",
    "**Linear Regression**:  \n",
    "\n",
    "RMSE: 4109.27  \n",
    "MAE: 3072.44  \n",
    "R²: 0.165  \n",
    "Analysis: This model has the highest errors (RMSE and MAE) and the lowest R², indicating it doesn’t explain much of the variance in the data.  \n",
    "\n",
    "**Random Forest**:  \n",
    "RMSE: 2004.27  \n",
    "MAE: 1296.25  \n",
    "R²: 0.801  \n",
    "Analysis: This model performs significantly better than Linear Regression, with much lower errors and a high R² value, indicating it explains a large portion of the variance.  \n",
    "\n",
    "**LightGBM**:  \n",
    "RMSE: 1883.14  \n",
    "MAE: 1190.57  \n",
    "R²: 0.825  \n",
    "Analysis: This model has the lowest errors and the highest R², indicating it explains the most variance in the data.  \n",
    "\n",
    "**CatBoost**:  \n",
    "RMSE: 1916.26  \n",
    "MAE: 1214.88  \n",
    "R²: 0.818  \n",
    "Analysis: This model also performs very well, with low errors and a high R² value.  "
   ]
  },
  {
   "cell_type": "markdown",
   "metadata": {},
   "source": [
    "# Training and Prediction Time"
   ]
  },
  {
   "cell_type": "markdown",
   "metadata": {},
   "source": [
    "\n",
    "**Decision Tree Regressor**:  \n",
    "Training Time: 8.32  \n",
    "Prediction Time: 0.08  \n",
    "Analysis: Moderate Training time and extremely fast predcition.  \n",
    "\n",
    "**Linear Regression**:  \n",
    "Training Time: 0.029 seconds  \n",
    "Prediction Time: 0.0099 seconds  \n",
    "Analysis: Extremely fast in both training and prediction.  \n",
    "\n",
    "**Random Forest**:  \n",
    "Training Time: 328.9 seconds  \n",
    "Prediction Time: 0.685 seconds  \n",
    "Analysis: Takes significantly longer to train but is relatively fast in prediction.  \n",
    "\n",
    "**LightGBM**:  \n",
    "Training Time: 5.7 seconds  \n",
    "Prediction Time: 0.598 seconds  \n",
    "Analysis: Moderate training time and fast in prediction.  \n",
    "\n",
    "**CatBoost**:  \n",
    "Training Time: 4.62 seconds  \n",
    "Prediction Time: 0.023 seconds  \n",
    "Analysis: Moderate training time and very fast in prediction.  \n",
    "\n",
    "**XGBoost**:  \n",
    "Training Time: 359 seconds  \n",
    "Prediction Time: 0.644 seconds  \n",
    "Analysis: Takes the longest to train but is relatively fast in prediction.  \n"
   ]
  },
  {
   "cell_type": "markdown",
   "metadata": {},
   "source": [
    "# Summary"
   ]
  },
  {
   "cell_type": "markdown",
   "metadata": {},
   "source": [
    "**Best Quality**: LightGBM, followed by CatBoost.  \n",
    "**Best Speed**: Linear Regression for both training and prediction, but it has poor quality. For a balance of speed and quality, LightGBM and CatBoost are good choices."
   ]
  },
  {
   "cell_type": "markdown",
   "metadata": {},
   "source": [
    "---"
   ]
  }
 ],
 "metadata": {
  "ExecuteTimeLog": [
   {
    "duration": 877,
    "start_time": "2024-09-03T19:25:15.352Z"
   },
   {
    "duration": 2,
    "start_time": "2024-09-03T19:25:26.012Z"
   },
   {
    "duration": 99,
    "start_time": "2024-09-03T19:30:05.516Z"
   },
   {
    "duration": 483,
    "start_time": "2024-09-03T19:30:30.575Z"
   },
   {
    "duration": 93,
    "start_time": "2024-09-03T19:30:38.810Z"
   },
   {
    "duration": 14,
    "start_time": "2024-09-03T19:39:23.457Z"
   },
   {
    "duration": 23,
    "start_time": "2024-09-03T19:47:07.391Z"
   },
   {
    "duration": 25,
    "start_time": "2024-09-03T19:47:30.988Z"
   },
   {
    "duration": 31,
    "start_time": "2024-09-03T19:47:42.467Z"
   },
   {
    "duration": 19,
    "start_time": "2024-09-03T19:47:45.089Z"
   },
   {
    "duration": 348,
    "start_time": "2024-09-03T19:54:29.958Z"
   },
   {
    "duration": 299,
    "start_time": "2024-09-03T19:54:37.720Z"
   },
   {
    "duration": 96,
    "start_time": "2024-09-03T19:56:17.889Z"
   },
   {
    "duration": 294,
    "start_time": "2024-09-03T19:56:20.131Z"
   },
   {
    "duration": 148,
    "start_time": "2024-09-03T19:56:36.221Z"
   },
   {
    "duration": 306,
    "start_time": "2024-09-03T19:56:37.052Z"
   },
   {
    "duration": 168,
    "start_time": "2024-09-03T19:58:11.852Z"
   },
   {
    "duration": 293,
    "start_time": "2024-09-03T19:58:16.986Z"
   },
   {
    "duration": 111,
    "start_time": "2024-09-03T20:00:11.064Z"
   },
   {
    "duration": 28,
    "start_time": "2024-09-03T20:00:19.452Z"
   },
   {
    "duration": 280,
    "start_time": "2024-09-03T20:00:22.007Z"
   },
   {
    "duration": 22,
    "start_time": "2024-09-03T20:03:57.103Z"
   },
   {
    "duration": 285,
    "start_time": "2024-09-03T20:03:59.821Z"
   },
   {
    "duration": 23,
    "start_time": "2024-09-03T20:04:27.102Z"
   },
   {
    "duration": 219,
    "start_time": "2024-09-03T20:05:56.107Z"
   },
   {
    "duration": 279,
    "start_time": "2024-09-03T20:05:59.007Z"
   },
   {
    "duration": 18,
    "start_time": "2024-09-03T20:06:10.316Z"
   },
   {
    "duration": 16,
    "start_time": "2024-09-03T20:07:13.182Z"
   },
   {
    "duration": 17,
    "start_time": "2024-09-03T20:07:39.687Z"
   },
   {
    "duration": 29,
    "start_time": "2024-09-03T20:07:43.331Z"
   },
   {
    "duration": 17,
    "start_time": "2024-09-03T20:07:43.531Z"
   },
   {
    "duration": 12,
    "start_time": "2024-09-03T20:09:42.740Z"
   },
   {
    "duration": 2956,
    "start_time": "2024-09-03T20:10:05.869Z"
   },
   {
    "duration": 408,
    "start_time": "2024-09-03T20:10:09.620Z"
   },
   {
    "duration": 13,
    "start_time": "2024-09-03T20:10:10.547Z"
   },
   {
    "duration": 24,
    "start_time": "2024-09-03T20:10:14.187Z"
   },
   {
    "duration": 17,
    "start_time": "2024-09-03T20:10:14.373Z"
   },
   {
    "duration": 95,
    "start_time": "2024-09-03T20:10:17.487Z"
   },
   {
    "duration": 24,
    "start_time": "2024-09-03T20:10:17.758Z"
   },
   {
    "duration": 307,
    "start_time": "2024-09-03T20:10:18.607Z"
   },
   {
    "duration": 316,
    "start_time": "2024-09-03T20:10:19.437Z"
   },
   {
    "duration": 13,
    "start_time": "2024-09-03T20:11:03.734Z"
   },
   {
    "duration": 18886,
    "start_time": "2024-09-03T20:12:56.704Z"
   },
   {
    "duration": 16,
    "start_time": "2024-09-03T20:13:26.865Z"
   },
   {
    "duration": 18376,
    "start_time": "2024-09-03T20:18:11.807Z"
   },
   {
    "duration": 14,
    "start_time": "2024-09-03T20:18:30.185Z"
   },
   {
    "duration": 2630,
    "start_time": "2024-09-04T12:31:43.466Z"
   },
   {
    "duration": 461,
    "start_time": "2024-09-04T12:31:46.829Z"
   },
   {
    "duration": 16,
    "start_time": "2024-09-04T12:31:47.295Z"
   },
   {
    "duration": 24,
    "start_time": "2024-09-04T12:31:48.205Z"
   },
   {
    "duration": 16,
    "start_time": "2024-09-04T12:31:49.252Z"
   },
   {
    "duration": 91,
    "start_time": "2024-09-04T12:31:51.414Z"
   },
   {
    "duration": 23,
    "start_time": "2024-09-04T12:31:57.372Z"
   },
   {
    "duration": 291,
    "start_time": "2024-09-04T12:31:57.652Z"
   },
   {
    "duration": 283,
    "start_time": "2024-09-04T12:31:58.713Z"
   },
   {
    "duration": 34658,
    "start_time": "2024-09-04T12:33:54.104Z"
   },
   {
    "duration": 13,
    "start_time": "2024-09-04T12:45:24.177Z"
   },
   {
    "duration": 77,
    "start_time": "2024-09-04T13:44:26.126Z"
   },
   {
    "duration": 234,
    "start_time": "2024-09-04T13:47:05.852Z"
   },
   {
    "duration": 940,
    "start_time": "2024-09-04T13:47:12.486Z"
   },
   {
    "duration": 15,
    "start_time": "2024-09-04T13:47:46.581Z"
   },
   {
    "duration": 31,
    "start_time": "2024-09-04T13:48:54.746Z"
   },
   {
    "duration": 210,
    "start_time": "2024-09-04T13:48:59.503Z"
   },
   {
    "duration": 3,
    "start_time": "2024-09-04T13:54:01.411Z"
   },
   {
    "duration": 1031,
    "start_time": "2024-09-04T13:54:10.441Z"
   },
   {
    "duration": 413,
    "start_time": "2024-09-04T13:54:12.574Z"
   },
   {
    "duration": 13,
    "start_time": "2024-09-04T13:54:13.157Z"
   },
   {
    "duration": 24,
    "start_time": "2024-09-04T13:54:16.532Z"
   },
   {
    "duration": 17,
    "start_time": "2024-09-04T13:54:17.074Z"
   },
   {
    "duration": 89,
    "start_time": "2024-09-04T13:54:20.897Z"
   },
   {
    "duration": 22,
    "start_time": "2024-09-04T13:54:21.771Z"
   },
   {
    "duration": 316,
    "start_time": "2024-09-04T13:54:22.595Z"
   },
   {
    "duration": 286,
    "start_time": "2024-09-04T13:54:23.488Z"
   },
   {
    "duration": 34999,
    "start_time": "2024-09-04T13:54:26.027Z"
   },
   {
    "duration": 15,
    "start_time": "2024-09-04T13:55:01.027Z"
   },
   {
    "duration": 105,
    "start_time": "2024-09-04T14:24:04.671Z"
   },
   {
    "duration": 2074,
    "start_time": "2024-09-04T14:24:14.792Z"
   },
   {
    "duration": 63,
    "start_time": "2024-09-04T14:24:55.289Z"
   },
   {
    "duration": 715,
    "start_time": "2024-09-04T14:26:19.780Z"
   },
   {
    "duration": 5,
    "start_time": "2024-09-04T14:29:01.212Z"
   },
   {
    "duration": 514,
    "start_time": "2024-09-04T14:29:12.372Z"
   },
   {
    "duration": 15,
    "start_time": "2024-09-04T14:29:29.582Z"
   },
   {
    "duration": 51,
    "start_time": "2024-09-04T14:29:44.687Z"
   },
   {
    "duration": 16,
    "start_time": "2024-09-04T14:30:15.842Z"
   },
   {
    "duration": 32,
    "start_time": "2024-09-04T14:31:36.068Z"
   },
   {
    "duration": 93,
    "start_time": "2024-09-04T14:32:58.481Z"
   },
   {
    "duration": 73,
    "start_time": "2024-09-04T14:33:48.047Z"
   },
   {
    "duration": 67,
    "start_time": "2024-09-04T14:33:58.782Z"
   },
   {
    "duration": 16,
    "start_time": "2024-09-04T14:34:08.835Z"
   },
   {
    "duration": 986,
    "start_time": "2024-09-04T14:35:25.279Z"
   },
   {
    "duration": 403,
    "start_time": "2024-09-04T14:35:26.927Z"
   },
   {
    "duration": 12,
    "start_time": "2024-09-04T14:35:27.367Z"
   },
   {
    "duration": 25,
    "start_time": "2024-09-04T14:35:29.549Z"
   },
   {
    "duration": 18,
    "start_time": "2024-09-04T14:35:31.834Z"
   },
   {
    "duration": 92,
    "start_time": "2024-09-04T14:35:33.052Z"
   },
   {
    "duration": 23,
    "start_time": "2024-09-04T14:35:37.560Z"
   },
   {
    "duration": 305,
    "start_time": "2024-09-04T14:35:38.021Z"
   },
   {
    "duration": 296,
    "start_time": "2024-09-04T14:35:38.488Z"
   },
   {
    "duration": 33,
    "start_time": "2024-09-04T14:35:42.274Z"
   },
   {
    "duration": 32,
    "start_time": "2024-09-04T14:36:19.394Z"
   },
   {
    "duration": 92,
    "start_time": "2024-09-04T14:36:31.367Z"
   },
   {
    "duration": 16,
    "start_time": "2024-09-04T14:36:41.806Z"
   },
   {
    "duration": 23,
    "start_time": "2024-09-04T14:36:57.398Z"
   },
   {
    "duration": 74,
    "start_time": "2024-09-04T14:37:03.110Z"
   },
   {
    "duration": 17452,
    "start_time": "2024-09-04T14:37:12.142Z"
   },
   {
    "duration": 14,
    "start_time": "2024-09-04T14:37:39.571Z"
   },
   {
    "duration": 106,
    "start_time": "2024-09-04T14:37:55.407Z"
   },
   {
    "duration": 248,
    "start_time": "2024-09-04T14:37:58.272Z"
   },
   {
    "duration": 702,
    "start_time": "2024-09-04T14:39:03.423Z"
   },
   {
    "duration": 88,
    "start_time": "2024-09-04T14:39:14.493Z"
   },
   {
    "duration": 1044,
    "start_time": "2024-09-04T14:39:25.734Z"
   },
   {
    "duration": 394,
    "start_time": "2024-09-04T14:39:26.788Z"
   },
   {
    "duration": 12,
    "start_time": "2024-09-04T14:39:27.487Z"
   },
   {
    "duration": 24,
    "start_time": "2024-09-04T14:39:28.244Z"
   },
   {
    "duration": 18,
    "start_time": "2024-09-04T14:39:28.899Z"
   },
   {
    "duration": 97,
    "start_time": "2024-09-04T14:39:29.898Z"
   },
   {
    "duration": 24,
    "start_time": "2024-09-04T14:39:30.907Z"
   },
   {
    "duration": 313,
    "start_time": "2024-09-04T14:39:32.767Z"
   },
   {
    "duration": 300,
    "start_time": "2024-09-04T14:39:33.846Z"
   },
   {
    "duration": 24,
    "start_time": "2024-09-04T14:39:36.606Z"
   },
   {
    "duration": 17442,
    "start_time": "2024-09-04T14:39:38.964Z"
   },
   {
    "duration": 13,
    "start_time": "2024-09-04T14:39:56.408Z"
   },
   {
    "duration": 88,
    "start_time": "2024-09-04T14:40:24.829Z"
   },
   {
    "duration": 874,
    "start_time": "2024-09-04T14:40:25.808Z"
   },
   {
    "duration": 696,
    "start_time": "2024-09-04T14:42:01.589Z"
   },
   {
    "duration": 375,
    "start_time": "2024-09-04T14:42:13.684Z"
   },
   {
    "duration": 123,
    "start_time": "2024-09-04T14:42:19.532Z"
   },
   {
    "duration": 1016,
    "start_time": "2024-09-04T14:43:29.686Z"
   },
   {
    "duration": 399,
    "start_time": "2024-09-04T14:43:31.781Z"
   },
   {
    "duration": 14,
    "start_time": "2024-09-04T14:43:32.819Z"
   },
   {
    "duration": 25,
    "start_time": "2024-09-04T14:43:38.046Z"
   },
   {
    "duration": 90,
    "start_time": "2024-09-04T14:43:48.656Z"
   },
   {
    "duration": 22,
    "start_time": "2024-09-04T14:43:49.225Z"
   },
   {
    "duration": 309,
    "start_time": "2024-09-04T14:43:50.406Z"
   },
   {
    "duration": 285,
    "start_time": "2024-09-04T14:43:50.987Z"
   },
   {
    "duration": 17,
    "start_time": "2024-09-04T14:44:35.210Z"
   },
   {
    "duration": 12,
    "start_time": "2024-09-04T14:44:41.385Z"
   },
   {
    "duration": 102,
    "start_time": "2024-09-04T14:44:52.389Z"
   },
   {
    "duration": 229,
    "start_time": "2024-09-04T14:44:53.806Z"
   },
   {
    "duration": 770,
    "start_time": "2024-09-04T14:45:13.950Z"
   },
   {
    "duration": 154,
    "start_time": "2024-09-04T14:50:17.328Z"
   },
   {
    "duration": 1056,
    "start_time": "2024-09-04T14:50:30.102Z"
   },
   {
    "duration": 389,
    "start_time": "2024-09-04T14:50:31.807Z"
   },
   {
    "duration": 13,
    "start_time": "2024-09-04T14:50:33.066Z"
   },
   {
    "duration": 25,
    "start_time": "2024-09-04T14:50:33.512Z"
   },
   {
    "duration": 18,
    "start_time": "2024-09-04T14:50:33.751Z"
   },
   {
    "duration": 92,
    "start_time": "2024-09-04T14:50:34.788Z"
   },
   {
    "duration": 23,
    "start_time": "2024-09-04T14:50:34.958Z"
   },
   {
    "duration": 292,
    "start_time": "2024-09-04T14:50:35.882Z"
   },
   {
    "duration": 292,
    "start_time": "2024-09-04T14:50:36.571Z"
   },
   {
    "duration": 12,
    "start_time": "2024-09-04T14:50:42.586Z"
   },
   {
    "duration": 17778,
    "start_time": "2024-09-04T14:50:47.101Z"
   },
   {
    "duration": 8,
    "start_time": "2024-09-04T14:51:04.881Z"
   },
   {
    "duration": 33,
    "start_time": "2024-09-04T14:52:29.001Z"
   },
   {
    "duration": 224,
    "start_time": "2024-09-04T14:52:29.930Z"
   },
   {
    "duration": 9,
    "start_time": "2024-09-04T14:53:12.936Z"
   },
   {
    "duration": 127,
    "start_time": "2024-09-04T15:01:20.076Z"
   },
   {
    "duration": 10,
    "start_time": "2024-09-04T15:01:29.311Z"
   },
   {
    "duration": 55,
    "start_time": "2024-09-04T15:02:51.286Z"
   },
   {
    "duration": 12,
    "start_time": "2024-09-04T15:02:52.461Z"
   },
   {
    "duration": 111,
    "start_time": "2024-09-04T15:02:56.598Z"
   },
   {
    "duration": 3,
    "start_time": "2024-09-04T15:03:32.046Z"
   },
   {
    "duration": 38,
    "start_time": "2024-09-04T15:07:56.586Z"
   },
   {
    "duration": 917,
    "start_time": "2024-09-04T15:11:00.668Z"
   },
   {
    "duration": 871,
    "start_time": "2024-09-04T15:11:06.916Z"
   },
   {
    "duration": 57172,
    "start_time": "2024-09-04T15:11:21.953Z"
   },
   {
    "duration": 3465,
    "start_time": "2024-09-05T02:54:53.509Z"
   },
   {
    "duration": 578,
    "start_time": "2024-09-05T02:54:57.456Z"
   },
   {
    "duration": 16,
    "start_time": "2024-09-05T02:54:58.036Z"
   },
   {
    "duration": 32,
    "start_time": "2024-09-05T02:54:58.175Z"
   },
   {
    "duration": 22,
    "start_time": "2024-09-05T02:54:58.706Z"
   },
   {
    "duration": 106,
    "start_time": "2024-09-05T02:54:59.365Z"
   },
   {
    "duration": 36,
    "start_time": "2024-09-05T02:55:00.169Z"
   },
   {
    "duration": 324,
    "start_time": "2024-09-05T02:55:01.911Z"
   },
   {
    "duration": 300,
    "start_time": "2024-09-05T02:55:02.911Z"
   },
   {
    "duration": 19,
    "start_time": "2024-09-05T02:55:04.407Z"
   },
   {
    "duration": 17801,
    "start_time": "2024-09-05T02:55:05.711Z"
   },
   {
    "duration": 11,
    "start_time": "2024-09-05T02:55:23.514Z"
   },
   {
    "duration": 3,
    "start_time": "2024-09-05T03:02:49.046Z"
   },
   {
    "duration": 232,
    "start_time": "2024-09-05T03:02:55.505Z"
   },
   {
    "duration": 58,
    "start_time": "2024-09-05T03:03:06.880Z"
   },
   {
    "duration": 66,
    "start_time": "2024-09-05T03:03:11.510Z"
   },
   {
    "duration": 895,
    "start_time": "2024-09-05T03:03:12.776Z"
   },
   {
    "duration": 58134,
    "start_time": "2024-09-05T03:03:15.586Z"
   },
   {
    "duration": 92615,
    "start_time": "2024-09-05T03:04:13.722Z"
   },
   {
    "duration": 19,
    "start_time": "2024-09-05T03:20:00.356Z"
   },
   {
    "duration": 2002,
    "start_time": "2024-09-05T03:20:45.490Z"
   },
   {
    "duration": 123776,
    "start_time": "2024-09-05T03:21:37.202Z"
   },
   {
    "duration": 88,
    "start_time": "2024-09-05T03:24:00.687Z"
   },
   {
    "duration": 28240,
    "start_time": "2024-09-05T03:25:49.610Z"
   },
   {
    "duration": 23,
    "start_time": "2024-09-05T03:26:34.840Z"
   },
   {
    "duration": 3,
    "start_time": "2024-09-05T03:27:11.775Z"
   },
   {
    "duration": 11,
    "start_time": "2024-09-05T03:27:17.420Z"
   },
   {
    "duration": 170,
    "start_time": "2024-09-05T03:28:52.066Z"
   },
   {
    "duration": 3,
    "start_time": "2024-09-05T03:29:32.130Z"
   },
   {
    "duration": 0,
    "start_time": "2024-09-05T03:43:08.121Z"
   },
   {
    "duration": 3,
    "start_time": "2024-09-05T03:43:35.329Z"
   },
   {
    "duration": 731,
    "start_time": "2024-09-05T03:43:56.978Z"
   },
   {
    "duration": 0,
    "start_time": "2024-09-05T03:43:57.711Z"
   },
   {
    "duration": 57707,
    "start_time": "2024-09-05T03:44:47.820Z"
   },
   {
    "duration": 5,
    "start_time": "2024-09-05T03:46:30.163Z"
   },
   {
    "duration": 3490,
    "start_time": "2024-09-05T03:46:46.792Z"
   },
   {
    "duration": 3156,
    "start_time": "2024-09-05T03:47:28.797Z"
   },
   {
    "duration": 29856,
    "start_time": "2024-09-05T03:47:40.027Z"
   },
   {
    "duration": 12,
    "start_time": "2024-09-05T03:48:11.788Z"
   },
   {
    "duration": 11,
    "start_time": "2024-09-05T03:48:34.783Z"
   },
   {
    "duration": 14,
    "start_time": "2024-09-05T03:48:39.997Z"
   },
   {
    "duration": 110,
    "start_time": "2024-09-05T03:54:14.563Z"
   },
   {
    "duration": 1174,
    "start_time": "2024-09-05T03:55:26.847Z"
   },
   {
    "duration": 416,
    "start_time": "2024-09-05T03:55:30.241Z"
   },
   {
    "duration": 13,
    "start_time": "2024-09-05T03:55:30.926Z"
   },
   {
    "duration": 25,
    "start_time": "2024-09-05T03:55:34.907Z"
   },
   {
    "duration": 90,
    "start_time": "2024-09-05T03:55:39.037Z"
   },
   {
    "duration": 24,
    "start_time": "2024-09-05T03:55:39.852Z"
   },
   {
    "duration": 318,
    "start_time": "2024-09-05T03:55:41.582Z"
   },
   {
    "duration": 289,
    "start_time": "2024-09-05T03:55:42.381Z"
   },
   {
    "duration": 1043,
    "start_time": "2024-09-05T03:56:09.992Z"
   },
   {
    "duration": 421,
    "start_time": "2024-09-05T03:56:11.039Z"
   },
   {
    "duration": 13,
    "start_time": "2024-09-05T03:56:12.227Z"
   },
   {
    "duration": 29,
    "start_time": "2024-09-05T03:56:18.007Z"
   },
   {
    "duration": 18,
    "start_time": "2024-09-05T03:56:19.095Z"
   },
   {
    "duration": 95,
    "start_time": "2024-09-05T03:56:23.682Z"
   },
   {
    "duration": 24,
    "start_time": "2024-09-05T03:56:25.318Z"
   },
   {
    "duration": 387,
    "start_time": "2024-09-05T03:56:26.919Z"
   },
   {
    "duration": 305,
    "start_time": "2024-09-05T03:56:28.291Z"
   },
   {
    "duration": 13,
    "start_time": "2024-09-05T03:56:48.732Z"
   },
   {
    "duration": 17389,
    "start_time": "2024-09-05T03:56:57.968Z"
   },
   {
    "duration": 10,
    "start_time": "2024-09-05T03:58:19.666Z"
   },
   {
    "duration": 59,
    "start_time": "2024-09-05T03:58:27.123Z"
   },
   {
    "duration": 13,
    "start_time": "2024-09-05T03:58:28.157Z"
   },
   {
    "duration": 49,
    "start_time": "2024-09-05T03:58:31.763Z"
   },
   {
    "duration": 1998,
    "start_time": "2024-09-05T03:58:35.362Z"
   },
   {
    "duration": 58371,
    "start_time": "2024-09-05T03:58:39.572Z"
   },
   {
    "duration": 3746,
    "start_time": "2024-09-05T04:00:10.037Z"
   },
   {
    "duration": 3264,
    "start_time": "2024-09-05T04:00:24.777Z"
   },
   {
    "duration": 30103,
    "start_time": "2024-09-05T04:00:36.690Z"
   },
   {
    "duration": 237,
    "start_time": "2024-09-05T04:14:25.904Z"
   },
   {
    "duration": 4,
    "start_time": "2024-09-05T04:14:59.312Z"
   },
   {
    "duration": 58,
    "start_time": "2024-09-05T04:15:04.332Z"
   },
   {
    "duration": 55,
    "start_time": "2024-09-05T04:15:26.753Z"
   },
   {
    "duration": 150,
    "start_time": "2024-09-05T04:15:58.322Z"
   },
   {
    "duration": 4,
    "start_time": "2024-09-05T04:16:07.053Z"
   },
   {
    "duration": 4,
    "start_time": "2024-09-05T04:16:13.853Z"
   },
   {
    "duration": 93,
    "start_time": "2024-09-05T04:16:18.283Z"
   },
   {
    "duration": 4,
    "start_time": "2024-09-05T04:16:25.443Z"
   },
   {
    "duration": 50,
    "start_time": "2024-09-05T04:16:30.358Z"
   },
   {
    "duration": 1991,
    "start_time": "2024-09-05T04:21:25.857Z"
   },
   {
    "duration": 1960,
    "start_time": "2024-09-05T04:21:38.432Z"
   },
   {
    "duration": 58156,
    "start_time": "2024-09-05T04:31:49.633Z"
   },
   {
    "duration": 3662,
    "start_time": "2024-09-05T04:35:19.709Z"
   },
   {
    "duration": 3126,
    "start_time": "2024-09-05T04:37:02.552Z"
   },
   {
    "duration": 29760,
    "start_time": "2024-09-05T04:39:11.322Z"
   },
   {
    "duration": 2834,
    "start_time": "2024-09-05T12:04:43.402Z"
   },
   {
    "duration": 529,
    "start_time": "2024-09-05T12:04:47.102Z"
   },
   {
    "duration": 14,
    "start_time": "2024-09-05T12:04:49.272Z"
   },
   {
    "duration": 4,
    "start_time": "2024-09-05T12:06:37.062Z"
   },
   {
    "duration": 397,
    "start_time": "2024-09-05T12:06:40.622Z"
   },
   {
    "duration": 10,
    "start_time": "2024-09-05T12:06:41.022Z"
   },
   {
    "duration": 29,
    "start_time": "2024-09-05T12:06:44.801Z"
   },
   {
    "duration": 19,
    "start_time": "2024-09-05T12:06:45.121Z"
   },
   {
    "duration": 93,
    "start_time": "2024-09-05T12:06:56.028Z"
   },
   {
    "duration": 173,
    "start_time": "2024-09-05T12:10:39.495Z"
   },
   {
    "duration": 53,
    "start_time": "2024-09-05T12:10:46.935Z"
   },
   {
    "duration": 86,
    "start_time": "2024-09-05T12:10:54.250Z"
   },
   {
    "duration": 20,
    "start_time": "2024-09-05T12:11:51.537Z"
   },
   {
    "duration": 17,
    "start_time": "2024-09-05T12:16:58.421Z"
   },
   {
    "duration": 12,
    "start_time": "2024-09-05T12:17:07.726Z"
   },
   {
    "duration": 72,
    "start_time": "2024-09-05T12:22:23.046Z"
   },
   {
    "duration": 119,
    "start_time": "2024-09-05T12:25:52.578Z"
   },
   {
    "duration": 115,
    "start_time": "2024-09-05T12:26:02.654Z"
   },
   {
    "duration": 75,
    "start_time": "2024-09-05T12:26:07.397Z"
   },
   {
    "duration": 21,
    "start_time": "2024-09-05T12:26:11.007Z"
   },
   {
    "duration": 3,
    "start_time": "2024-09-05T12:26:19.328Z"
   },
   {
    "duration": 23,
    "start_time": "2024-09-05T12:26:23.288Z"
   },
   {
    "duration": 40,
    "start_time": "2024-09-05T12:30:40.171Z"
   },
   {
    "duration": 27610,
    "start_time": "2024-09-05T12:42:57.047Z"
   },
   {
    "duration": 24688,
    "start_time": "2024-09-05T12:43:56.076Z"
   },
   {
    "duration": 112,
    "start_time": "2024-09-05T12:44:50.701Z"
   },
   {
    "duration": 119,
    "start_time": "2024-09-05T12:45:03.407Z"
   },
   {
    "duration": 123,
    "start_time": "2024-09-05T12:45:30.923Z"
   },
   {
    "duration": 1087,
    "start_time": "2024-09-05T12:49:44.882Z"
   },
   {
    "duration": 499,
    "start_time": "2024-09-05T12:49:46.562Z"
   },
   {
    "duration": 15,
    "start_time": "2024-09-05T12:49:47.106Z"
   },
   {
    "duration": 30,
    "start_time": "2024-09-05T12:49:49.757Z"
   },
   {
    "duration": 19,
    "start_time": "2024-09-05T12:49:50.210Z"
   },
   {
    "duration": 94,
    "start_time": "2024-09-05T12:49:54.049Z"
   },
   {
    "duration": 56,
    "start_time": "2024-09-05T12:50:00.583Z"
   },
   {
    "duration": 266,
    "start_time": "2024-09-05T12:50:01.912Z"
   },
   {
    "duration": 300,
    "start_time": "2024-09-05T12:50:02.522Z"
   },
   {
    "duration": 20,
    "start_time": "2024-09-05T12:50:04.785Z"
   },
   {
    "duration": 17793,
    "start_time": "2024-09-05T12:50:14.716Z"
   },
   {
    "duration": 15,
    "start_time": "2024-09-05T12:50:32.510Z"
   },
   {
    "duration": 1077,
    "start_time": "2024-09-05T12:50:58.608Z"
   },
   {
    "duration": 43,
    "start_time": "2024-09-05T12:51:07.686Z"
   },
   {
    "duration": 36,
    "start_time": "2024-09-05T12:51:11.382Z"
   },
   {
    "duration": 633682,
    "start_time": "2024-09-05T12:52:08.062Z"
   },
   {
    "duration": 9002,
    "start_time": "2024-09-05T13:03:01.275Z"
   },
   {
    "duration": 100249,
    "start_time": "2024-09-05T13:10:46.432Z"
   },
   {
    "duration": 236934,
    "start_time": "2024-09-05T13:12:31.466Z"
   },
   {
    "duration": 1205,
    "start_time": "2024-09-05T13:26:05.720Z"
   },
   {
    "duration": 448,
    "start_time": "2024-09-05T13:26:06.927Z"
   },
   {
    "duration": 14,
    "start_time": "2024-09-05T13:26:08.560Z"
   },
   {
    "duration": 27,
    "start_time": "2024-09-05T13:26:11.162Z"
   },
   {
    "duration": 20,
    "start_time": "2024-09-05T13:26:11.642Z"
   },
   {
    "duration": 97,
    "start_time": "2024-09-05T13:26:17.292Z"
   },
   {
    "duration": 64,
    "start_time": "2024-09-05T13:26:20.714Z"
   },
   {
    "duration": 289,
    "start_time": "2024-09-05T13:26:21.591Z"
   },
   {
    "duration": 304,
    "start_time": "2024-09-05T13:26:22.053Z"
   },
   {
    "duration": 19,
    "start_time": "2024-09-05T13:26:25.092Z"
   },
   {
    "duration": 17959,
    "start_time": "2024-09-05T13:26:26.202Z"
   },
   {
    "duration": 17,
    "start_time": "2024-09-05T13:26:44.164Z"
   },
   {
    "duration": 1096,
    "start_time": "2024-09-05T13:26:44.183Z"
   },
   {
    "duration": 46,
    "start_time": "2024-09-05T13:27:01.417Z"
   },
   {
    "duration": 47,
    "start_time": "2024-09-05T13:27:03.682Z"
   },
   {
    "duration": 237,
    "start_time": "2024-09-05T13:27:10.552Z"
   },
   {
    "duration": 174468,
    "start_time": "2024-09-05T13:27:38.503Z"
   },
   {
    "duration": 173647,
    "start_time": "2024-09-05T13:32:21.861Z"
   },
   {
    "duration": 284631,
    "start_time": "2024-09-05T13:46:11.002Z"
   },
   {
    "duration": 8,
    "start_time": "2024-09-05T13:50:55.636Z"
   },
   {
    "duration": 3,
    "start_time": "2024-09-05T14:08:33.727Z"
   },
   {
    "duration": 3,
    "start_time": "2024-09-05T14:19:48.166Z"
   },
   {
    "duration": 1258,
    "start_time": "2024-09-05T14:20:03.173Z"
   },
   {
    "duration": 479,
    "start_time": "2024-09-05T14:20:05.157Z"
   },
   {
    "duration": 12,
    "start_time": "2024-09-05T14:20:05.688Z"
   },
   {
    "duration": 29,
    "start_time": "2024-09-05T14:20:07.987Z"
   },
   {
    "duration": 27,
    "start_time": "2024-09-05T14:20:08.213Z"
   },
   {
    "duration": 116,
    "start_time": "2024-09-05T14:20:11.043Z"
   },
   {
    "duration": 73,
    "start_time": "2024-09-05T14:20:14.803Z"
   },
   {
    "duration": 290,
    "start_time": "2024-09-05T14:20:17.720Z"
   },
   {
    "duration": 344,
    "start_time": "2024-09-05T14:20:18.013Z"
   },
   {
    "duration": 27,
    "start_time": "2024-09-05T14:20:20.247Z"
   },
   {
    "duration": 19925,
    "start_time": "2024-09-05T14:20:21.187Z"
   },
   {
    "duration": 17,
    "start_time": "2024-09-05T14:20:41.114Z"
   },
   {
    "duration": 1134,
    "start_time": "2024-09-05T14:46:32.543Z"
   },
   {
    "duration": 3,
    "start_time": "2024-09-05T14:46:46.493Z"
   },
   {
    "duration": 101,
    "start_time": "2024-09-05T14:46:48.599Z"
   },
   {
    "duration": 20,
    "start_time": "2024-09-05T14:46:51.207Z"
   },
   {
    "duration": 1170,
    "start_time": "2024-09-05T14:46:58.130Z"
   },
   {
    "duration": 1393,
    "start_time": "2024-09-05T15:03:12.530Z"
   },
   {
    "duration": 521,
    "start_time": "2024-09-05T15:03:14.436Z"
   },
   {
    "duration": 15,
    "start_time": "2024-09-05T15:03:14.959Z"
   },
   {
    "duration": 29,
    "start_time": "2024-09-05T15:03:15.491Z"
   },
   {
    "duration": 19,
    "start_time": "2024-09-05T15:03:15.985Z"
   },
   {
    "duration": 104,
    "start_time": "2024-09-05T15:03:17.456Z"
   },
   {
    "duration": 77,
    "start_time": "2024-09-05T15:03:18.207Z"
   },
   {
    "duration": 325,
    "start_time": "2024-09-05T15:03:19.432Z"
   },
   {
    "duration": 512,
    "start_time": "2024-09-05T15:03:20.310Z"
   },
   {
    "duration": 27,
    "start_time": "2024-09-05T15:03:22.056Z"
   },
   {
    "duration": 20306,
    "start_time": "2024-09-05T15:03:23.657Z"
   },
   {
    "duration": 19,
    "start_time": "2024-09-05T15:03:43.965Z"
   },
   {
    "duration": 1246,
    "start_time": "2024-09-05T15:04:11.658Z"
   },
   {
    "duration": 2,
    "start_time": "2024-09-05T15:04:21.707Z"
   },
   {
    "duration": 21,
    "start_time": "2024-09-05T15:04:28.618Z"
   },
   {
    "duration": 39,
    "start_time": "2024-09-05T15:04:30.062Z"
   },
   {
    "duration": 48,
    "start_time": "2024-09-05T15:04:32.878Z"
   },
   {
    "duration": 194352,
    "start_time": "2024-09-05T15:04:44.027Z"
   },
   {
    "duration": 329592,
    "start_time": "2024-09-05T15:10:24.088Z"
   },
   {
    "duration": 6307,
    "start_time": "2024-09-05T15:19:01.021Z"
   },
   {
    "duration": 4652,
    "start_time": "2024-09-05T15:19:53.812Z"
   },
   {
    "duration": 359654,
    "start_time": "2024-09-05T15:20:01.565Z"
   },
   {
    "duration": 5,
    "start_time": "2024-09-05T15:44:25.592Z"
   },
   {
    "duration": 9,
    "start_time": "2024-09-05T15:57:58.862Z"
   },
   {
    "duration": 4,
    "start_time": "2024-09-05T16:05:53.722Z"
   },
   {
    "duration": 1283,
    "start_time": "2024-09-05T16:05:59.737Z"
   },
   {
    "duration": 572,
    "start_time": "2024-09-05T16:06:12.328Z"
   },
   {
    "duration": 16,
    "start_time": "2024-09-05T16:06:14.742Z"
   },
   {
    "duration": 39,
    "start_time": "2024-09-05T16:06:17.478Z"
   },
   {
    "duration": 27,
    "start_time": "2024-09-05T16:06:20.212Z"
   },
   {
    "duration": 109,
    "start_time": "2024-09-05T16:06:25.559Z"
   },
   {
    "duration": 74,
    "start_time": "2024-09-05T16:06:28.306Z"
   },
   {
    "duration": 318,
    "start_time": "2024-09-05T16:06:31.382Z"
   },
   {
    "duration": 376,
    "start_time": "2024-09-05T16:06:32.065Z"
   },
   {
    "duration": 20142,
    "start_time": "2024-09-05T16:06:36.131Z"
   },
   {
    "duration": 15,
    "start_time": "2024-09-05T16:06:56.275Z"
   },
   {
    "duration": 259,
    "start_time": "2024-09-05T16:07:00.502Z"
   },
   {
    "duration": 220,
    "start_time": "2024-09-05T16:10:44.603Z"
   },
   {
    "duration": 1311,
    "start_time": "2024-09-05T16:10:58.860Z"
   },
   {
    "duration": 558,
    "start_time": "2024-09-05T16:11:00.634Z"
   },
   {
    "duration": 18,
    "start_time": "2024-09-05T16:11:01.194Z"
   },
   {
    "duration": 24,
    "start_time": "2024-09-05T16:11:03.885Z"
   },
   {
    "duration": 17,
    "start_time": "2024-09-05T16:11:04.592Z"
   },
   {
    "duration": 112,
    "start_time": "2024-09-05T16:12:13.712Z"
   },
   {
    "duration": 68,
    "start_time": "2024-09-05T16:12:14.326Z"
   },
   {
    "duration": 351,
    "start_time": "2024-09-05T16:12:15.322Z"
   },
   {
    "duration": 392,
    "start_time": "2024-09-05T16:12:15.868Z"
   },
   {
    "duration": 34,
    "start_time": "2024-09-05T16:12:17.221Z"
   },
   {
    "duration": 20678,
    "start_time": "2024-09-05T16:12:19.072Z"
   },
   {
    "duration": 28,
    "start_time": "2024-09-05T16:12:39.752Z"
   },
   {
    "duration": 1198,
    "start_time": "2024-09-05T16:13:43.349Z"
   },
   {
    "duration": 4,
    "start_time": "2024-09-05T16:13:47.727Z"
   },
   {
    "duration": 18,
    "start_time": "2024-09-05T16:13:48.547Z"
   },
   {
    "duration": 671,
    "start_time": "2024-09-05T16:13:51.922Z"
   },
   {
    "duration": 965,
    "start_time": "2024-09-05T16:14:25.282Z"
   },
   {
    "duration": 41,
    "start_time": "2024-09-05T16:14:29.337Z"
   },
   {
    "duration": 52,
    "start_time": "2024-09-05T16:14:35.917Z"
   },
   {
    "duration": 175839,
    "start_time": "2024-09-05T16:14:45.537Z"
   },
   {
    "duration": 278465,
    "start_time": "2024-09-05T16:18:48.887Z"
   },
   {
    "duration": 4670,
    "start_time": "2024-09-05T16:23:27.355Z"
   },
   {
    "duration": 341186,
    "start_time": "2024-09-05T16:26:47.641Z"
   },
   {
    "duration": 8,
    "start_time": "2024-09-05T19:52:44.373Z"
   }
  ],
  "kernelspec": {
   "display_name": "Python 3 (ipykernel)",
   "language": "python",
   "name": "python3"
  },
  "language_info": {
   "codemirror_mode": {
    "name": "ipython",
    "version": 3
   },
   "file_extension": ".py",
   "mimetype": "text/x-python",
   "name": "python",
   "nbconvert_exporter": "python",
   "pygments_lexer": "ipython3",
   "version": "3.9.19"
  },
  "toc": {
   "base_numbering": 1,
   "nav_menu": {},
   "number_sections": true,
   "sideBar": true,
   "skip_h1_title": true,
   "title_cell": "Table of Contents",
   "title_sidebar": "Contents",
   "toc_cell": false,
   "toc_position": {},
   "toc_section_display": true,
   "toc_window_display": false
  }
 },
 "nbformat": 4,
 "nbformat_minor": 2
}
